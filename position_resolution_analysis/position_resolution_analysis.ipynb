{
 "cells": [
  {
   "cell_type": "code",
   "execution_count": 1,
   "id": "548a7ad7-ea51-48d8-a1f9-2dcee65c131c",
   "metadata": {},
   "outputs": [],
   "source": [
    "#import neccessary libraries\n",
    "import numpy as np\n",
    "import evaluation as ev\n",
    "import csv\n",
    "import pandas as pd"
   ]
  },
  {
   "cell_type": "code",
   "execution_count": 2,
   "id": "50079bdb-9af9-4858-a017-898fb1b7a0a9",
   "metadata": {},
   "outputs": [],
   "source": [
    "#set root file name\n",
    "root_file = 'Gamma-E100-n1000-part5'"
   ]
  },
  {
   "cell_type": "code",
   "execution_count": 3,
   "id": "56343362-4886-4e14-a754-c8f11df0b33a",
   "metadata": {},
   "outputs": [],
   "source": [
    "#read cluster distribution csv as a dataframe and get noise level that minimizes cluster number\n",
    "df = pd.read_csv('cluster-noise-distribution_'+root_file+'.csv')\n",
    "noise = df['noise'][df['n_clusters_mean'].idxmin()]\n",
    "\n",
    "#set run parameters\n",
    "n_events = 1\n",
    "event_n = 0"
   ]
  },
  {
   "cell_type": "code",
   "execution_count": 4,
   "id": "1e85ed62-a4ab-4851-b756-072a430aea1d",
   "metadata": {},
   "outputs": [],
   "source": [
    "#modifiedtest_single_photon function (taken from test_stats.py) that returns relevant info for each particle, as\n",
    "#seen in the plot output\n",
    "#(x, y, z, t, e, clusterindex, pdgid, E_bound, sum(E_hit)\n",
    "#this function calls our model and tests it using the root file defined in datasets.py in the single_photon_dataset function\n",
    "def particle_info(n_events, event_n, noise):\n",
    "    tbeta = .2\n",
    "    td = .5\n",
    "    nmax = n_events\n",
    "    yielder = ev.TestYielderSinglePhoton()\n",
    "    yielder.model.signal_threshold = noise\n",
    "    for i, (event, prediction, clustering) in enumerate(yielder.iter_clustering(tbeta, td, nmax=nmax)):\n",
    "        if(i==event_n):\n",
    "            np.set_printoptions(suppress=True) #suppress scientific notation\n",
    "            _, idx, _ = np.unique(clustering, return_counts=True, return_inverse=True)\n",
    "            energy_values = np.round(np.bincount(idx, event.energy),3)\n",
    "            return event.xhit, event.yhit, event.zhit, event.energy, event.time, clustering, event.truth_pdgid, event.truth_e_bound, energy_values, np.unique(clustering)\n",
    "        else:\n",
    "            continue"
   ]
  },
  {
   "cell_type": "code",
   "execution_count": 5,
   "id": "1a4a88a2-73d1-45ef-80c6-a5d647a4ba94",
   "metadata": {},
   "outputs": [
    {
     "name": "stderr",
     "output_type": "stream",
     "text": [
      "  0%|                                                     | 0/1 [00:00<?, ?it/s]\u001b[33m[uptools|    INFO|2024-06-25 22:01:31|__init__]:\u001b[0m Using tree Events\n",
      "  0%|                                                     | 0/1 [00:17<?, ?it/s]\n"
     ]
    }
   ],
   "source": [
    "#get 5 vectors for all particles of a single event\n",
    "p_5vector = particle_info(n_events, event_n, noise)"
   ]
  },
  {
   "cell_type": "code",
   "execution_count": 6,
   "id": "408fc261-5419-42d1-9180-91a452c4f654",
   "metadata": {},
   "outputs": [
    {
     "data": {
      "text/html": [
       "<div>\n",
       "<style scoped>\n",
       "    .dataframe tbody tr th:only-of-type {\n",
       "        vertical-align: middle;\n",
       "    }\n",
       "\n",
       "    .dataframe tbody tr th {\n",
       "        vertical-align: top;\n",
       "    }\n",
       "\n",
       "    .dataframe thead th {\n",
       "        text-align: right;\n",
       "    }\n",
       "</style>\n",
       "<table border=\"1\" class=\"dataframe\">\n",
       "  <thead>\n",
       "    <tr style=\"text-align: right;\">\n",
       "      <th></th>\n",
       "      <th>x</th>\n",
       "      <th>y</th>\n",
       "      <th>z</th>\n",
       "      <th>e</th>\n",
       "      <th>t</th>\n",
       "      <th>clusterindex</th>\n",
       "      <th>pdgid</th>\n",
       "      <th>E_bound</th>\n",
       "    </tr>\n",
       "  </thead>\n",
       "  <tbody>\n",
       "    <tr>\n",
       "      <th>19217</th>\n",
       "      <td>66.58</td>\n",
       "      <td>25.97</td>\n",
       "      <td>453.3</td>\n",
       "      <td>0.047</td>\n",
       "      <td>-1.0</td>\n",
       "      <td>0.0</td>\n",
       "      <td>0</td>\n",
       "      <td>0.0</td>\n",
       "    </tr>\n",
       "  </tbody>\n",
       "</table>\n",
       "</div>"
      ],
      "text/plain": [
       "           x      y      z      e    t  clusterindex  pdgid  E_bound\n",
       "19217  66.58  25.97  453.3  0.047 -1.0           0.0      0      0.0"
      ]
     },
     "execution_count": 6,
     "metadata": {},
     "output_type": "execute_result"
    }
   ],
   "source": [
    "#write down the 5vector as a pandas dataframe and save it as a csv file\n",
    "df_5v = pd.DataFrame({'x': np.round(p_5vector[0].astype(np.float64), 2), 'y': np.round(p_5vector[1].astype(np.float64), 2), \n",
    "                      'z': np.round(p_5vector[2].astype(np.float64), 2), 'e': np.round(p_5vector[3].astype(np.float64), 3), \n",
    "                      't': p_5vector[4].astype(np.float64), 'clusterindex': p_5vector[5], 'pdgid': p_5vector[6].astype(np.int64),\n",
    "                     'E_bound':np.round(p_5vector[7].astype(np.float64), 3)})\n",
    "df_5v[df_5v['x']==66.58]"
   ]
  },
  {
   "cell_type": "code",
   "execution_count": 7,
   "id": "98427a77-754c-4923-9d67-5c9853052ede",
   "metadata": {},
   "outputs": [],
   "source": [
    "#write particle info dataframe to .csv \n",
    "df_5v.to_csv('particle-info_'+root_file+'_noise-'+str(noise)+'_eventn-'+str(event_n)+'.csv', index=False)"
   ]
  },
  {
   "cell_type": "code",
   "execution_count": null,
   "id": "976ba445-de63-4c54-8f89-b6c2e906ad6b",
   "metadata": {},
   "outputs": [],
   "source": []
  },
  {
   "cell_type": "code",
   "execution_count": null,
   "id": "40b8949b-fc98-40c9-a924-c67460027c8e",
   "metadata": {},
   "outputs": [],
   "source": [
    "np.unique(p_5vector[5])"
   ]
  },
  {
   "cell_type": "code",
   "execution_count": null,
   "id": "3338c60b-8c9d-4eae-9027-314f8d250517",
   "metadata": {},
   "outputs": [],
   "source": []
  }
 ],
 "metadata": {
  "kernelspec": {
   "display_name": "Python 3 (ipykernel)",
   "language": "python",
   "name": "python3"
  },
  "language_info": {
   "codemirror_mode": {
    "name": "ipython",
    "version": 3
   },
   "file_extension": ".py",
   "mimetype": "text/x-python",
   "name": "python",
   "nbconvert_exporter": "python",
   "pygments_lexer": "ipython3",
   "version": "3.10.9"
  }
 },
 "nbformat": 4,
 "nbformat_minor": 5
}
